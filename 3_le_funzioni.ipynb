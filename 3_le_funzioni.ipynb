{
 "cells": [
  {
   "cell_type": "markdown",
   "id": "df759ddd",
   "metadata": {},
   "source": [
    "# 3: Creare nuove funzioni\n",
    "\n",
    "Python consente di creare nuove funzioni, oltre a quelle predefinite e a quelle che si trovano nei moduli. Creare funzioni è un modo per riutizzare più volte del codice che è già stato scritto. \n",
    "\n",
    "## 3.1: Esempio: una funzione per i decibel\n",
    "\n",
    "Per esempio, consideriamo la formula che converte l'intensità sonora  $I$ (misurata in $W/m^2$) in livello di intensità sonora $\\beta$ (misurata di decibel):\n",
    "\n",
    "$$\\beta(I) = \\log_{10}\\left(\\frac{I}{I_0}\\right)$$\n",
    "\n",
    "dove $I_0 = 10^{-12} W/m^2$ è la soglia di udibilità.\n",
    "\n",
    "Il seguente codice crea una nuova funzione, che converte l'intensità sonora nel suo livello in decibel."
   ]
  },
  {
   "cell_type": "code",
   "execution_count": null,
   "id": "9b906a28",
   "metadata": {},
   "outputs": [],
   "source": [
    "# modulo che ci condente di calcolare il logaritmo\n",
    "import math\n",
    "\n",
    "# def definisce una nuova funzione (nota i \":\" al termine della linea)\n",
    "def calcola_decibel(I):\n",
    "    # Il blocco di codice che è indentato fa parte della funzione\n",
    "    I_0 = 1e-12\n",
    "    # return termina la funzione e restituisce il risultato\n",
    "    return 10*math.log10(I/I_0)\n",
    "\n",
    "# Il codice che non è più indentato non fa parte della funzione\n",
    "# Intensità di esempio\n",
    "I_es = 0.01\n",
    "print(\"Un suono con intensità \", I_es, \" W/m2 ha livello di intensità: \", calcola_decibel(I_es), \" dB\")"
   ]
  },
  {
   "cell_type": "markdown",
   "id": "3b756b1d",
   "metadata": {},
   "source": [
    "La dichiarazione di una nuova funzione ha la seguente sintassi:\n",
    "\n",
    "a) la funzione inizia con la parola \"def\";\n",
    "\n",
    "b) segue il nome della funzione e la lista degli argomenti tra partentesi;\n",
    "\n",
    "c) la prima riga termina con \":\".\n",
    "\n",
    "Segue il corpo della funzione, la lista di tutti i comandi che sono eseguiti ogni volta che la funzione è chiamata. I comandi che compongono la funzione formano un blocco di codice separato dal resto del programma: in python si usa indentare i comandi per distinguere i blocchi di codice.\n",
    "\n",
    "La funzione termina con la parola chiave \"return\", seguita dal valore che deve restituire la funzione."
   ]
  },
  {
   "cell_type": "markdown",
   "id": "25b67363",
   "metadata": {},
   "source": [
    "### 3.1.1: Prova TU! area del cerchio\n",
    "\n",
    "a) Crea una funzione che calcoli l'area di un cerchio di raggio $r$ ($r$ deve essere l'argomento della funzione).\n",
    "\n",
    "b) Calcola l'area di un cerchio con raggio $0.1m$, $1m$, $10m$."
   ]
  },
  {
   "cell_type": "code",
   "execution_count": null,
   "id": "e77bc91c",
   "metadata": {},
   "outputs": [],
   "source": []
  },
  {
   "cell_type": "markdown",
   "id": "c338e41a",
   "metadata": {},
   "source": [
    "## 3.2: Una funzione e il suo grafico\n",
    "\n",
    "Come esempio di applicazione, tracciamo il grafico della relazione che lega l'intensità sonora al livello di intensità in decibel.\n",
    "\n",
    "Come abbiamo fatto in precedenza, dobbiamo calcolare le coordinate $(x, y)$ dei punti del grafico. La coordinata $x$ è la variabile indipendente (nel nostro caso, l'intensità). La coordinata $y$ è la variabile dipendente, che nel nostro caso viene calcolata con la funzione \"calcola_decibel\", che abbiamo creato.\n",
    "\n",
    "Il seguente codice rappresenta il grafico"
   ]
  },
  {
   "cell_type": "code",
   "execution_count": null,
   "id": "f5328189",
   "metadata": {},
   "outputs": [],
   "source": [
    "import math\n",
    "import numpy as np\n",
    "from matplotlib import pyplot as plt\n",
    "\n",
    "# funzione che calcola i decibel\n",
    "def calcola_decibel(I):\n",
    "    I_0 = 1e-12\n",
    "    return 10*math.log10(I/I_0)\n",
    "\n",
    "# Calcoliamo le coordinate (x,y) dei punti del grafico\n",
    "I_arr = np.arange(1e-12, 10, 0.001) # coordinata x\n",
    "beta_arr = [calcola_decibel(I) for I in I_arr] # coordinata y\n",
    "\n",
    "# rappresentiamo il grafico\n",
    "plt.plot(I_arr, beta_arr)\n",
    "\n",
    "# diamo un nome agli assi\n",
    "plt.xlabel(\"I [W/m2]\")\n",
    "plt.ylabel(\"decibel\")\n",
    "\n",
    "plt.show()\n",
    "\n"
   ]
  },
  {
   "cell_type": "markdown",
   "id": "de004d2f",
   "metadata": {},
   "source": [
    "Il grafico è scarsamente leggibile, perché i decibel sono una scala logaritmica.\n",
    "\n",
    "Usando il seguente comando al posto di \"plt.plot\", possiamo creare un grafico in scala semilogaritmica."
   ]
  },
  {
   "cell_type": "code",
   "execution_count": null,
   "id": "9affa0b8",
   "metadata": {},
   "outputs": [],
   "source": [
    "#grafico in scala semilogaritmica sull'asse x\n",
    "plt.semilogx(I_arr, beta_arr)"
   ]
  },
  {
   "cell_type": "markdown",
   "id": "dcb9face",
   "metadata": {},
   "source": [
    "### 3.2.2: Prova TU! grafico dell'area del cerchio\n",
    "\n",
    "a) Disegna il grafico dell'area di un cerchio in funzione del raggio (usa la funzione che hai scritto nell'esercizio 3.1.1).\n",
    "b) Rappresenta il grafico in scala bilogaritmica usando il comando \"plt.loglog()\" al posto di \"plt.plot()\"."
   ]
  },
  {
   "cell_type": "code",
   "execution_count": null,
   "id": "6d27bb3a",
   "metadata": {},
   "outputs": [],
   "source": []
  },
  {
   "cell_type": "code",
   "execution_count": null,
   "id": "5c6a34a5",
   "metadata": {},
   "outputs": [],
   "source": []
  }
 ],
 "metadata": {
  "kernelspec": {
   "display_name": "Python 3 (ipykernel)",
   "language": "python",
   "name": "python3"
  },
  "language_info": {
   "codemirror_mode": {
    "name": "ipython",
    "version": 3
   },
   "file_extension": ".py",
   "mimetype": "text/x-python",
   "name": "python",
   "nbconvert_exporter": "python",
   "pygments_lexer": "ipython3",
   "version": "3.9.7"
  }
 },
 "nbformat": 4,
 "nbformat_minor": 5
}
