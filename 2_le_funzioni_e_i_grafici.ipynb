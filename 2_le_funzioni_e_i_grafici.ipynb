{
 "cells": [
  {
   "cell_type": "markdown",
   "id": "b3cad31c",
   "metadata": {},
   "source": [
    "# Le funzioni, i dati e la rappresentazione grafica\n",
    "\n",
    "## Funzioni predefinite e moduli\n",
    "\n",
    "Una funzione è un nome associato a un gruppo di istruzioni. In generale una funzione può accettare dei valori in ingresso, i parametri, e restituire un valore in uscita.\n",
    "\n",
    "Nel precedente modulo abbiamo usato diverse funzioni predefinite del python, ad esempio \"type\", \"len\", \"min\", \"max\", etc...\n",
    "\n",
    "Come sempre, seleziona la cella e premi MAIUSC+ENTER oppure il tasto \"Run\".\n",
    "\n",
    "Possiamo consultare il manuale python riguardo alle funzioni predefinite del python con:"
   ]
  },
  {
   "cell_type": "code",
   "execution_count": null,
   "id": "5f388c04",
   "metadata": {},
   "outputs": [],
   "source": [
    "max?"
   ]
  },
  {
   "cell_type": "markdown",
   "id": "7bc3a4f2",
   "metadata": {},
   "source": [
    "Abbiamo anche introdotto il modulo esterno \"numpy\", che contiene funzioni utili per il calcolo numerico e scientifico. Per ridurre lo spazio di scrittura, possiamo rinominare il modulo, ad esempio:"
   ]
  },
  {
   "cell_type": "code",
   "execution_count": null,
   "id": "6527cdfa",
   "metadata": {},
   "outputs": [],
   "source": [
    "import numpy as np\n",
    "\n",
    "# genera un array con valore minimo -20, valore massimo +20 e differenza tra valori adiacenti di 1.5\n",
    "x = np.arange(-20, 20, 1.5)\n",
    "\n",
    "print(x)"
   ]
  },
  {
   "cell_type": "markdown",
   "id": "e5b8e6b4",
   "metadata": {},
   "source": [
    "Possiamo consultare il manuale con:"
   ]
  },
  {
   "cell_type": "code",
   "execution_count": null,
   "id": "fddb0918",
   "metadata": {},
   "outputs": [],
   "source": [
    "np.arange?"
   ]
  },
  {
   "cell_type": "markdown",
   "id": "c3be4048",
   "metadata": {},
   "source": [
    "## Le funzioni matematiche\n",
    "\n",
    "Le funzioni matematiche del python sono incluse nel modulo \"math\""
   ]
  },
  {
   "cell_type": "code",
   "execution_count": null,
   "id": "042b9c40",
   "metadata": {},
   "outputs": [],
   "source": [
    "import math\n",
    "\n",
    "print(math.sin(3.1415/6))\n",
    "# math.pi contiene il valore approssimato di pi greco\n",
    "print(math.sin(math.pi/6))"
   ]
  },
  {
   "cell_type": "markdown",
   "id": "dd56c776",
   "metadata": {},
   "source": [
    "Possiamo leggere la lista delle funzioni contenute in un modulo con"
   ]
  },
  {
   "cell_type": "code",
   "execution_count": null,
   "id": "030ec8b0",
   "metadata": {},
   "outputs": [],
   "source": [
    "help(math)"
   ]
  },
  {
   "cell_type": "markdown",
   "id": "e35752ab",
   "metadata": {},
   "source": [
    "# Funzioni e grafici\n",
    "\n",
    "Python ha molte librerie adatte a creare immagini grafiche. Nel seguito useremo una parte del modulo \"matplotlib\", chiamata \"pyplot\", che è costruita in modo da essere simile al linguaggio MATLAB (abbiamo incontrato questa libreria nel \"notebook\" precedente).\n",
    "\n",
    "In matematica, solitamente, studiamo i grafici di funzioni in modo implicito, trattandoli come luoghi geometrici. In informatica, per tracciare un grafico dobbiamo generare le coordinate (x, y) di tutti i punti che compongono la linea del grafico.\n",
    "\n",
    "Il seguente esempio crea il grafico di una funzione goniometrica"
   ]
  },
  {
   "cell_type": "code",
   "execution_count": null,
   "id": "9aea0a59",
   "metadata": {},
   "outputs": [],
   "source": [
    "from matplotlib import pyplot as plt\n",
    "import numpy as np\n",
    "import math\n",
    "\n",
    "# array contenente le coordinate x dei punti del grafico.\n",
    "# con questo comando controlliamo l'intervallo in cui rappresentare il grafico\n",
    "x_arr = np.arange(-2*math.pi, 2*math.pi, 0.1)\n",
    "\n",
    "# questo comando genera un array con tutti le coordinate y calcolate per ogni x nell'array x_arr\n",
    "y_arr = [2*math.cos(2*x) for x in x_arr]\n",
    "\n",
    "# Genera un'immagine in cui sono rappresentati tutti i punti con coordinate (x, y) nei due array\n",
    "# I punti sono uniti da un segmento\n",
    "plt.plot(x_arr, y_arr)\n",
    "plt.show()\n"
   ]
  },
  {
   "cell_type": "markdown",
   "id": "cf38b639",
   "metadata": {},
   "source": [
    "Prova a modificare l'esempio precedente per disegnare i grafici delle seguenti funzioni:\n",
    "\n",
    "a) $$f(x) = 1-e^{-x}$$\n",
    "\n",
    "con $ x \\in [0, 5] $ (puoi usare la funzione esponenziale \"math.exp\").\n",
    "\n",
    "b) $$g(x) = x\\cdot \\sin(3x)$$\n",
    "\n",
    "con $ x \\in [-4\\pi, 4\\pi] $ (puoi usare la funzione esponenziale \"math.exp\")."
   ]
  },
  {
   "cell_type": "code",
   "execution_count": null,
   "id": "73d2af12",
   "metadata": {},
   "outputs": [],
   "source": []
  },
  {
   "cell_type": "code",
   "execution_count": null,
   "id": "f7d3ff2e",
   "metadata": {},
   "outputs": [],
   "source": []
  },
  {
   "cell_type": "markdown",
   "id": "2a3f3ce6",
   "metadata": {},
   "source": [
    "## Grafici di dati statistici\n",
    "\n",
    "Nella cartella che contiene i notebook Jupyter trovi alcuni file che contengono dati economici reali dell'economia italiana (la fonte di questi dati è la banca mondiale https://data.worldbank.org/country/italy?view=chart).\n",
    "\n",
    "I nomi dei file sono:\n",
    "\n",
    "  a) \"aspettativa_vita.txt\": contiene l'aspettativa di vita media dalla nascita;\n",
    "  \n",
    "  b) \"crescita_PIL.txt\": la crescita annuale in percentuale del prodotto interno lordo (PIL), cioè la ricchezza totale prodotta dall'Italia in un anno;\n",
    "  \n",
    "  c) \"inflazione_prezzi.txt\": l'inflazione dei prezzi annuale, cioè di quanto sono aumentati in media i prezzi da un anno all'altro;\n",
    "  \n",
    "  d) \"PIL_italia.txt\": il prodotto interno lordo italiano pro capite, cioè la ricchezza media prodotta da un cittadino italiano in un anno.\n",
    "  \n",
    "Tutti i file contengono due colonne: la prima colonna è l'anno, la seconda è il valore.\n",
    "\n",
    "Il codice seguente legge i dati e li carica in degli array. L'array \"dati\", in questo caso, è bidimensionale, cioè ha due indici: uno per la riga e uno per la colonna."
   ]
  },
  {
   "cell_type": "code",
   "execution_count": null,
   "id": "fac0a337",
   "metadata": {},
   "outputs": [],
   "source": [
    "import numpy as np\n",
    "\n",
    "# con questo comando apriamo il file\n",
    "file = open(\"inflazione_prezzi.txt\")\n",
    "\n",
    "# la funzione loadtxt fa parte del modulo numpy\n",
    "# il risultato è un array che contiene tutti i numeri nel file\n",
    "# in questo caso dato è un array bidimensionale con due indici, uno per la riga e uno per la colonna\n",
    "dati = np.loadtxt(file)\n",
    "\n",
    "# x_arr e y_arr sono array unidimensionali che serviranno per fare i grafici\n",
    "# l'array x_arr contiene la prima colonna, quindi gli anni\n",
    "x_arr = dati[:, 0]\n",
    "# y_arr contiene la seconda colonna\n",
    "y_arr = dati[:, 1]\n",
    "\n",
    "print(dati[20, 0], dati[20, 1])\n",
    "print(dati)\n",
    "print(x_arr)\n",
    "print(y_arr)"
   ]
  },
  {
   "cell_type": "markdown",
   "id": "24318ee4",
   "metadata": {},
   "source": [
    "Possiamo ora rappresentare graficamente i dati nel file:"
   ]
  },
  {
   "cell_type": "code",
   "execution_count": null,
   "id": "447ebed7",
   "metadata": {},
   "outputs": [],
   "source": [
    "from matplotlib import pylab as plt\n",
    "\n",
    "plt.plot(x_arr, y_arr)\n",
    "plt.show()"
   ]
  },
  {
   "cell_type": "markdown",
   "id": "52298b67",
   "metadata": {},
   "source": [
    "Il codice seguente esegue le operazioni precedenti in un unico blocco.\n",
    "\n",
    "Modifica il codice seguente per generare i grafici con gli altri dati che hai a disposizione."
   ]
  },
  {
   "cell_type": "code",
   "execution_count": null,
   "id": "c881f0ba",
   "metadata": {},
   "outputs": [],
   "source": [
    "import numpy as np\n",
    "\n",
    "# con questo comando apriamo il file\n",
    "file = open(\"crescita_PIL.txt\")\n",
    "\n",
    "# la funzione loadtxt fa parte del modulo numpy\n",
    "# il risultato è un array che contiene tutti i numeri nel file\n",
    "# in questo caso dato è un array bidimensionale con due indici, uno per la riga e uno per la colonna\n",
    "dati = np.loadtxt(file)\n",
    "\n",
    "# x_arr e y_arr sono array unidimensionali che serviranno per fare i grafici\n",
    "# l'array x_arr contiene la prima colonna, quindi gli anni\n",
    "x_arr = dati[:, 0]\n",
    "# y_arr contiene la seconda colonna\n",
    "y_arr = dati[:, 1]\n",
    "\n",
    "plt.plot(x_arr, y_arr)\n",
    "plt.show()"
   ]
  },
  {
   "cell_type": "markdown",
   "id": "70090f6d",
   "metadata": {},
   "source": [
    "Possiamo anche calcolare dati statistici sui dati che abbiamo rappresentato:"
   ]
  },
  {
   "cell_type": "code",
   "execution_count": null,
   "id": "6f728d76",
   "metadata": {},
   "outputs": [],
   "source": [
    "print(\"Media: \", np.mean(y_arr))\n",
    "print(\"Massimo: \", np.max(y_arr))\n",
    "print(\"Minimo: \", np.min(y_arr))"
   ]
  },
  {
   "cell_type": "markdown",
   "id": "3d281346",
   "metadata": {},
   "source": [
    "Il codice seguente genera un istogramma."
   ]
  },
  {
   "cell_type": "code",
   "execution_count": null,
   "id": "f596050d",
   "metadata": {},
   "outputs": [],
   "source": [
    "# Possiamo anche generare un istogramma con i dati\n",
    "plt.hist(y_arr, bins=10)\n"
   ]
  },
  {
   "cell_type": "markdown",
   "id": "4489f259",
   "metadata": {},
   "source": [
    "## Creare nuove funzioni\n",
    "\n",
    "Python consente di creare nuove funzioni. L'esempio seguente è una funzione che calcola l'area del triangolo (base e altezza sono parametri):"
   ]
  },
  {
   "cell_type": "code",
   "execution_count": null,
   "id": "4eb63271",
   "metadata": {},
   "outputs": [],
   "source": [
    "# def definisce una nuova funzione (nota i \":\" al termine della linea)\n",
    "def area_triangolo(base, altezza):\n",
    "    # Tutto il codice che è indentato fa parte della funzione\n",
    "    area = base*altezza/2\n",
    "    # return termina la funzione e restituisce il risultato\n",
    "    return area\n",
    "\n",
    "# Il codice che non è più indentato non fa parte della funzione\n",
    "print(area_triangolo(3, 2))"
   ]
  },
  {
   "cell_type": "markdown",
   "id": "671d51f2",
   "metadata": {},
   "source": [
    "La funzione seguente calcola i decibel partendo dall'intensità\n",
    "\n",
    "$$\\beta = 10 \\cdot \\log_{10}\\left(\\frac{I}{I_0}\\right)$$\n",
    "\n",
    "con $I_0 = 10^{-12}~ W/m^2$."
   ]
  },
  {
   "cell_type": "code",
   "execution_count": null,
   "id": "6edc6058",
   "metadata": {},
   "outputs": [],
   "source": [
    "import math\n",
    "\n",
    "def decibel(I):\n",
    "    # I_0 = 10 alla meno 12 scritto in notazione scientifica\n",
    "    I_0 = 1e-12\n",
    "    return 10*math.log10(I/I_0)\n",
    "\n",
    "I_es = 0.1\n",
    "print(\"Un suono con intensità \", I_es, \" W/m2 ha livello di intensità: \", decibel(I_es), \" dB\")"
   ]
  },
  {
   "cell_type": "markdown",
   "id": "4fb51e15",
   "metadata": {},
   "source": [
    "Possiamo definire le funzioni che si possono esprimere con un'unica espressione in forma più compatta:"
   ]
  },
  {
   "cell_type": "code",
   "execution_count": null,
   "id": "49ba90a3",
   "metadata": {},
   "outputs": [],
   "source": [
    "import math\n",
    "\n",
    "decibel2 = lambda I : 10*math.log10(I/1e-12)\n",
    "\n",
    "I_es = 0.001\n",
    "print(\"Un suono con intensità \", I_es, \" W/m2 ha livello di intensità: \", decibel2(I_es), \" dB\")"
   ]
  },
  {
   "cell_type": "code",
   "execution_count": null,
   "id": "92b830b7",
   "metadata": {},
   "outputs": [],
   "source": []
  }
 ],
 "metadata": {
  "kernelspec": {
   "display_name": "Python 3 (ipykernel)",
   "language": "python",
   "name": "python3"
  },
  "language_info": {
   "codemirror_mode": {
    "name": "ipython",
    "version": 3
   },
   "file_extension": ".py",
   "mimetype": "text/x-python",
   "name": "python",
   "nbconvert_exporter": "python",
   "pygments_lexer": "ipython3",
   "version": "3.9.7"
  }
 },
 "nbformat": 4,
 "nbformat_minor": 5
}
