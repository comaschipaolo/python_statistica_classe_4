{
 "cells": [
  {
   "cell_type": "markdown",
   "id": "45d0e80b",
   "metadata": {},
   "source": [
    "# La statistica in Python: introduzione\n",
    "## Hello, World!\n",
    "\n",
    "Quando si impara un nuovo linguaggio di programmazione, tradizionalmente, il primo programma che si implementa si limita a stampare in output il messaggio \"Hello, world!\".\n",
    "\n",
    "Prova a eseguire e modificare il seguente esempio (seleziona la cella e premi MAIUSC+ENTER oppure il tasto \"Run\")."
   ]
  },
  {
   "cell_type": "code",
   "execution_count": null,
   "id": "5972737c",
   "metadata": {},
   "outputs": [],
   "source": [
    "print(\"Hello, World!\")"
   ]
  },
  {
   "cell_type": "markdown",
   "id": "d9371967",
   "metadata": {},
   "source": [
    "\"print\" è una funzione predefinita del python che stampa in output il suo argomento. \"Hello, World!\", scritto tra virgolette, è una stringa, cioè una sequenza di caratteri.\n",
    "\n",
    "## Operazioni aritmetiche\n",
    "\n",
    "Il python può eseguire semplici calcoli aritmetici con gli operatori: \\*, /, +, -, //, %, \\**\n",
    "\n",
    "Prova a capire il comportamento di questi operatori modificando i seguenti esempi:"
   ]
  },
  {
   "cell_type": "code",
   "execution_count": null,
   "id": "d0bee714",
   "metadata": {},
   "outputs": [],
   "source": [
    "11+4"
   ]
  },
  {
   "cell_type": "code",
   "execution_count": null,
   "id": "8a116370",
   "metadata": {},
   "outputs": [],
   "source": [
    "11*4"
   ]
  },
  {
   "cell_type": "code",
   "execution_count": null,
   "id": "95d71b2d",
   "metadata": {},
   "outputs": [],
   "source": [
    "11/4"
   ]
  },
  {
   "cell_type": "code",
   "execution_count": null,
   "id": "c7f82866",
   "metadata": {},
   "outputs": [],
   "source": [
    "11-4"
   ]
  },
  {
   "cell_type": "code",
   "execution_count": null,
   "id": "e0a4f5ac",
   "metadata": {},
   "outputs": [],
   "source": [
    "11//4"
   ]
  },
  {
   "cell_type": "code",
   "execution_count": null,
   "id": "c4ab4f83",
   "metadata": {},
   "outputs": [],
   "source": [
    "11%4"
   ]
  },
  {
   "cell_type": "code",
   "execution_count": null,
   "id": "e3b1825e",
   "metadata": {},
   "outputs": [],
   "source": [
    "11**4"
   ]
  },
  {
   "cell_type": "markdown",
   "id": "52d2ce7a",
   "metadata": {},
   "source": [
    "Con le parentesi possiamo scrivere espressioni aritmetiche più complicate. Prova a modificare il seguente esempio."
   ]
  },
  {
   "cell_type": "code",
   "execution_count": null,
   "id": "096d30e8",
   "metadata": {},
   "outputs": [],
   "source": [
    "(2**4+1)/3-2*4"
   ]
  },
  {
   "cell_type": "markdown",
   "id": "030bd934",
   "metadata": {},
   "source": [
    "## Le variabili\n",
    "\n",
    "Il nostro obiettivo è studiare la statistica e quindi i dati: un dato è un'informazione elementare che rappresenta un valore. Per gestire i singoli dati, i linguaggi di programmazione introducono le variabili: dei nomi associati a valori che sono memorizzati nella memoria del computer.\n",
    "\n",
    "L'operatore \"=\" assegna un valore a una variabile. Prova a modificare il seguente esempio"
   ]
  },
  {
   "cell_type": "code",
   "execution_count": null,
   "id": "e95e905c",
   "metadata": {},
   "outputs": [],
   "source": [
    "a = 2\n",
    "b = 3\n",
    "c = a + b\n",
    "print(a, b, c)"
   ]
  },
  {
   "cell_type": "markdown",
   "id": "386fc68b",
   "metadata": {},
   "source": [
    "Ogni variabile ha un tipo, associato al tipo di dato che può memorizzare (numeri interi, decimali, stringhe, etc...). Le variabili a, b e c sono variabili numeriche intere:"
   ]
  },
  {
   "cell_type": "code",
   "execution_count": null,
   "id": "d4fd5a04",
   "metadata": {},
   "outputs": [],
   "source": [
    "print(type(a))\n",
    "print(type(b))\n",
    "print(type(c))"
   ]
  },
  {
   "cell_type": "markdown",
   "id": "820cf82a",
   "metadata": {},
   "source": [
    "Oltre agli interi, i tipi più comuni di variabili sono:\n",
    "\n",
    "-- numeri reali (in inglese \"floating point numbers\", memorizzati in memoria in forma approssimata):"
   ]
  },
  {
   "cell_type": "code",
   "execution_count": null,
   "id": "d3ee5970",
   "metadata": {},
   "outputs": [],
   "source": [
    "f = 1.234\n",
    "print(type(f))"
   ]
  },
  {
   "cell_type": "markdown",
   "id": "adee5c80",
   "metadata": {},
   "source": [
    "-- sequenze di caratteri (stringe, in inglese \"string\"):"
   ]
  },
  {
   "cell_type": "code",
   "execution_count": null,
   "id": "5191cb51",
   "metadata": {},
   "outputs": [],
   "source": [
    "c = 'Ciaone!'\n",
    "print(type(c))"
   ]
  },
  {
   "cell_type": "markdown",
   "id": "7051ef1e",
   "metadata": {},
   "source": [
    "-- variabili Booleane che possono avere valore \"True\" o \"False\":"
   ]
  },
  {
   "cell_type": "code",
   "execution_count": null,
   "id": "0149a334",
   "metadata": {},
   "outputs": [],
   "source": [
    "p1 = 2 < 3\n",
    "p2 = 2 > 3\n",
    "print(p1)\n",
    "print(type(p1))\n",
    "print(p2)\n",
    "print(type(p2))"
   ]
  },
  {
   "cell_type": "markdown",
   "id": "0cfc975a",
   "metadata": {},
   "source": [
    "Esistono anche operatori logici tra variabili: l'intersezione logica \"and\", l'unione logica \"or\" e la negazione \"not\".\n",
    "\n",
    "Prova a modificare il seguente esempi:"
   ]
  },
  {
   "cell_type": "code",
   "execution_count": null,
   "id": "4e7c7ba5",
   "metadata": {},
   "outputs": [],
   "source": [
    "print((2>3) or (3>2))\n",
    "print((2>3) and (3>2))\n",
    "print(not(2>3))"
   ]
  },
  {
   "cell_type": "markdown",
   "id": "f43cc9e2",
   "metadata": {},
   "source": [
    "## Memorizzare i dati: gli array\n",
    "\n",
    "L'obiettivo di questo modulo è imparare ad analizzare i dati per ricavarne informazioni statistiche. Per fare questo non basta memorizzare singoli valori in variabili, ma abbiamo bisogno di memorizzare e manipolare grandi quantità di valori. Serve, quindi, raggruppare i nostri dati in strutture, che li rendano facilmente accessibili: le strutture dati. La struttura dati più semplice è l'array o vettore: una sequenza omogenea di variabili indicizzate da un numero intero.\n",
    "\n",
    "Prova a modificare i seguenti esempi:"
   ]
  },
  {
   "cell_type": "code",
   "execution_count": null,
   "id": "09c38abb",
   "metadata": {},
   "outputs": [],
   "source": [
    "A = [11, 22, 33, 44, 55]\n",
    "print(A)\n",
    "print(type(A))"
   ]
  },
  {
   "cell_type": "markdown",
   "id": "85501bc5",
   "metadata": {},
   "source": [
    "Nota che il tipo di questo array è \"list\". Approfondiremo questo aspetto in futuro, perché è un argomento avanzato del python.\n",
    "\n",
    "Il seguente codice legge e sovrascrive singoli elementi dell'array."
   ]
  },
  {
   "cell_type": "code",
   "execution_count": null,
   "id": "21f6ab0b",
   "metadata": {},
   "outputs": [],
   "source": [
    "print(A[0])\n",
    "print(A[3])"
   ]
  },
  {
   "cell_type": "code",
   "execution_count": null,
   "id": "0fac0972",
   "metadata": {},
   "outputs": [],
   "source": [
    "A[2] = 66\n",
    "print(A)"
   ]
  },
  {
   "cell_type": "markdown",
   "id": "5dbb7978",
   "metadata": {},
   "source": [
    "## Leggere i dati da un file\n",
    "\n",
    "Nella stessa cartella in cui è salvato questo notebook Jupyter è presente il file di testo \"dati1.txt\", che contiene una sequenza di numeri.\n",
    "\n",
    "Prova ad aprire il file con un editor di testo.\n",
    "\n",
    "Il seguente codice carica i dati dal file in un array. Useremo questo array per calcolare dati statistici sui numeri nel file.\n",
    "\n",
    "Le righe che iniziano con \"#\" sono commenti e sono ignorate dall'interprete Python: servono a noi esseri umani per capire cosa fa il codice."
   ]
  },
  {
   "cell_type": "code",
   "execution_count": null,
   "id": "fb39d8c9",
   "metadata": {},
   "outputs": [],
   "source": [
    "# numpy è un modulo Python che contiene funzioni utili nel calcolo scientifico\n",
    "import numpy\n",
    "\n",
    "# con questo comando apriamo il file \"dati1.txt\"\n",
    "# \"file\" è un tipo speciale di variabile, chiamato oggetto, che indica il file \"dati1.txt\"\n",
    "file = open(\"dati1.txt\")\n",
    "\n",
    "# la funzione loadtxt fa parte del modulo numpy\n",
    "# il risultato è un array che contiene tutti i numeri nel file \"dati1.txt\"\n",
    "dati = numpy.loadtxt(file)\n",
    "\n",
    "print(dati)"
   ]
  },
  {
   "cell_type": "markdown",
   "id": "efbef828",
   "metadata": {},
   "source": [
    "## Funzioni statistiche di base\n",
    "\n",
    "Una volta memorizzati i dati nell'array, possiamo usare le funzioni predefinite del python per analizzare questi dati. Ad esempio:"
   ]
  },
  {
   "cell_type": "code",
   "execution_count": null,
   "id": "e65af100",
   "metadata": {},
   "outputs": [],
   "source": [
    "# Il numero di elementi nell'array\n",
    "print(\"Numero di elementi: \", len(dati))\n",
    "\n",
    "# Il massimo e il minimo valore\n",
    "\n",
    "print(\"Massimo: \", max(dati))\n",
    "print(\"Minimo: \", min(dati))\n",
    "\n",
    "# La somma di tutti gli elementi\n",
    "\n",
    "print(\"Somma: \", sum(dati))\n",
    "\n",
    "# Possiamo calcolare semplicemente le media aritmetica\n",
    "\n",
    "print(\"Media: \", sum(dati) / len(dati) )"
   ]
  },
  {
   "cell_type": "markdown",
   "id": "c6fb1eca",
   "metadata": {},
   "source": [
    "Come esercizio, calcola la semidispersione."
   ]
  },
  {
   "cell_type": "code",
   "execution_count": null,
   "id": "b9ae4093",
   "metadata": {},
   "outputs": [],
   "source": []
  },
  {
   "cell_type": "markdown",
   "id": "a83ecdf6",
   "metadata": {},
   "source": [
    "Il modulo \"numpy\" contiene funzioni più avanzate, anche di natura statistica. Ad esempio:"
   ]
  },
  {
   "cell_type": "code",
   "execution_count": null,
   "id": "902d330b",
   "metadata": {},
   "outputs": [],
   "source": [
    "# La media\n",
    "\n",
    "print(\"Media: \", numpy.mean(dati))\n",
    "\n",
    "# La mediana \n",
    "\n",
    "print(\"Mediana: \", numpy.median(dati))\n",
    "\n",
    "# La dispersione dei valori (massimo - minimo)\n",
    "\n",
    "print(\"Dispersione: \", numpy.ptp(dati))\n",
    "\n",
    "# Funzioni statistiche più avanzate: deviazione standard e varianza\n",
    "\n",
    "print(\"Deviazione standard: \", numpy.std(dati))\n",
    "print(\"Varianza: \", numpy.var(dati))"
   ]
  },
  {
   "cell_type": "markdown",
   "id": "d758cd1a",
   "metadata": {},
   "source": [
    "Possiamo verificare il calcolo delle mediana, ordinando (\"sort\" in inglese) l'array:"
   ]
  },
  {
   "cell_type": "code",
   "execution_count": null,
   "id": "23030abf",
   "metadata": {},
   "outputs": [],
   "source": [
    "print(numpy.sort(dati))"
   ]
  },
  {
   "cell_type": "markdown",
   "id": "34947fa3",
   "metadata": {},
   "source": [
    "Possiamo rappresentare graficamente i dati con un istogramma:"
   ]
  },
  {
   "cell_type": "code",
   "execution_count": null,
   "id": "82c70fcc",
   "metadata": {},
   "outputs": [],
   "source": [
    "# matplotlib è uno dei moduli python che permettono di generare immagini\n",
    "# pyplot è una parte di matplotlib che ha funzioni simili al linguaggio MATLAB\n",
    "from matplotlib import pyplot as plt\n",
    "\n",
    "plt.hist(dati, bins=10)"
   ]
  }
 ],
 "metadata": {
  "kernelspec": {
   "display_name": "Python 3 (ipykernel)",
   "language": "python",
   "name": "python3"
  },
  "language_info": {
   "codemirror_mode": {
    "name": "ipython",
    "version": 3
   },
   "file_extension": ".py",
   "mimetype": "text/x-python",
   "name": "python",
   "nbconvert_exporter": "python",
   "pygments_lexer": "ipython3",
   "version": "3.9.7"
  }
 },
 "nbformat": 4,
 "nbformat_minor": 5
}
